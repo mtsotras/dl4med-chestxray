{
 "cells": [
  {
   "cell_type": "code",
   "execution_count": null,
   "id": "9304cb72",
   "metadata": {},
   "outputs": [],
   "source": [
    "import numpy as np\n",
    "from sklearn.metrics import (\n",
    "    f1_score, precision_score, recall_score, roc_auc_score\n",
    ")\n",
    "\n",
    "\n",
    "val_probs = np.load(\"y_probs_val.npy\") \n",
    "val_labels = np.load(\"y_true_val.npy\")\n",
    "test_probs = np.load(\"y_probs.npy\")\n",
    "test_labels = np.load(\"y_true.npy\")\n",
    "\n",
    "num_classes = 15\n",
    "best_thresholds = np.zeros(num_classes)\n",
    "\n",
    "\n",
    "thresholds = np.linspace(0, 1, 101)\n",
    "\n",
    "for i in range(num_classes):\n",
    "    best_f1 = 0\n",
    "    for t in thresholds:\n",
    "        preds = (val_probs[:, i] >= t).astype(int)\n",
    "        f1 = f1_score(val_labels[:, i], preds, zero_division=0)\n",
    "        if f1 > best_f1:\n",
    "            best_f1 = f1\n",
    "            best_thresholds[i] = t\n",
    "\n",
    "print(\"Optimal thresholds per class:\\n\", best_thresholds)\n",
    "\n",
    "\n",
    "test_preds = (test_probs >= best_thresholds).astype(int)\n",
    "\n",
    "\n",
    "print(\"\\n--- Test Set Metrics After Thresholding ---\")\n",
    "print(\"Exact Match Ratio  :\", np.all(test_preds == test_labels, axis=1).mean())\n",
    "print(\"Macro F1           :\", f1_score(test_labels, test_preds, average='macro', zero_division=0))\n",
    "print(\"Macro Precision    :\", precision_score(test_labels, test_preds, average='macro', zero_division=0))\n",
    "print(\"Macro Recall       :\", recall_score(test_labels, test_preds, average='macro', zero_division=0))\n",
    "print(\"AUC (macro average):\", roc_auc_score(test_labels, test_probs, average='macro'))\n",
    "\n",
    "\n",
    "for i in range(num_classes):\n",
    "    f1 = f1_score(test_labels[:, i], test_preds[:, i], zero_division=0)\n",
    "    print(f\"Class {i:2d} | F1: {f1:.4f} | Threshold: {best_thresholds[i]:.2f}\")\n"
   ]
  }
 ],
 "metadata": {
  "language_info": {
   "name": "python"
  }
 },
 "nbformat": 4,
 "nbformat_minor": 5
}
